{
  "nbformat": 4,
  "nbformat_minor": 0,
  "metadata": {
    "colab": {
      "provenance": [],
      "gpuType": "T4"
    },
    "kernelspec": {
      "name": "python3",
      "display_name": "Python 3"
    },
    "language_info": {
      "name": "python"
    },
    "accelerator": "GPU"
  },
  "cells": [
    {
      "cell_type": "code",
      "execution_count": 2,
      "metadata": {
        "colab": {
          "base_uri": "https://localhost:8080/"
        },
        "id": "Vbxna4Uks29N",
        "outputId": "66b028fc-dc98-43b6-9739-9cdcf3f9157b"
      },
      "outputs": [
        {
          "output_type": "stream",
          "name": "stdout",
          "text": [
            "Requirement already satisfied: numpy in /usr/local/lib/python3.10/dist-packages (1.23.5)\n",
            "Requirement already satisfied: opencv-python-headless in /usr/local/lib/python3.10/dist-packages (4.8.0.76)\n",
            "Requirement already satisfied: gdal in /usr/local/lib/python3.10/dist-packages (3.4.3)\n"
          ]
        }
      ],
      "source": [
        "pip install numpy opencv-python-headless gdal"
      ]
    },
    {
      "cell_type": "code",
      "source": [
        "import cv2\n",
        "import numpy as np\n",
        "from osgeo import gdal\n",
        "import os"
      ],
      "metadata": {
        "id": "8uwGpWGh7RRv"
      },
      "execution_count": 3,
      "outputs": []
    },
    {
      "cell_type": "code",
      "source": [
        "from google.colab import drive\n",
        "drive.mount('/content/drive')"
      ],
      "metadata": {
        "colab": {
          "base_uri": "https://localhost:8080/"
        },
        "id": "cH38tH_g7tAZ",
        "outputId": "c808d963-eee3-49ba-c887-24631eae99e4"
      },
      "execution_count": 4,
      "outputs": [
        {
          "output_type": "stream",
          "name": "stdout",
          "text": [
            "Drive already mounted at /content/drive; to attempt to forcibly remount, call drive.mount(\"/content/drive\", force_remount=True).\n"
          ]
        }
      ]
    },
    {
      "cell_type": "code",
      "source": [
        "# Load and preprocess images\n",
        "folder_path=\"/Mosiac_Data\"\n",
        "image_paths = []  # List of satellite image paths\n",
        "for file in os.listdir(folder_path):\n",
        "    if os.path.isfile(os.path.join(folder_path,file)):\n",
        "        image_paths.append(os.path.join(folder_path, file))"
      ],
      "metadata": {
        "id": "y0f8w3Zh7VrY"
      },
      "execution_count": null,
      "outputs": []
    },
    {
      "cell_type": "code",
      "source": [
        "image_paths"
      ],
      "metadata": {
        "id": "ralHnrM07Y-Y"
      },
      "execution_count": null,
      "outputs": []
    },
    {
      "cell_type": "code",
      "source": [
        "images = [cv2.imread(path) for path in image_paths]\n",
        "\n",
        "# Assuming images are already aligned and have the same size\n",
        "\n",
        "# Stitch images\n",
        "stitcher = cv2.Stitcher_create()\n",
        "status, mosaic = stitcher.stitch(images)\n",
        "\n",
        "if status == cv2.Stitcher_OK:\n",
        "    # Save mosaic\n",
        "    cv2.imwrite(\"mosaic.tif\", mosaic)\n",
        "    print(\"Mosaic created and saved.\")\n",
        "else:\n",
        "    print(\"Error during stitching:\", status)"
      ],
      "metadata": {
        "id": "26lFCCPL7ZD3"
      },
      "execution_count": null,
      "outputs": []
    }
  ]
}