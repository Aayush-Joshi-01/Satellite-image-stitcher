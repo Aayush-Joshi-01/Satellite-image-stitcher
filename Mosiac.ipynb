{
  "cells": [
    {
      "cell_type": "code",
      "execution_count": 2,
      "metadata": {
        "colab": {
          "base_uri": "https://localhost:8080/"
        },
        "id": "Vbxna4Uks29N",
        "outputId": "66b028fc-dc98-43b6-9739-9cdcf3f9157b"
      },
      "outputs": [
        {
          "name": "stdout",
          "output_type": "stream",
          "text": [
            "Requirement already satisfied: numpy in /usr/local/lib/python3.10/dist-packages (1.23.5)\n",
            "Requirement already satisfied: opencv-python-headless in /usr/local/lib/python3.10/dist-packages (4.8.0.76)\n",
            "Requirement already satisfied: gdal in /usr/local/lib/python3.10/dist-packages (3.4.3)\n"
          ]
        }
      ],
      "source": [
        "pip install numpy opencv-python-headless gdal"
      ]
    },
    {
      "cell_type": "code",
      "execution_count": 3,
      "metadata": {
        "id": "8uwGpWGh7RRv"
      },
      "outputs": [],
      "source": [
        "import cv2\n",
        "import numpy as np\n",
        "from osgeo import gdal\n",
        "import os"
      ]
    },
    {
      "cell_type": "code",
      "execution_count": 4,
      "metadata": {
        "colab": {
          "base_uri": "https://localhost:8080/"
        },
        "id": "cH38tH_g7tAZ",
        "outputId": "c808d963-eee3-49ba-c887-24631eae99e4"
      },
      "outputs": [
        {
          "name": "stdout",
          "output_type": "stream",
          "text": [
            "Drive already mounted at /content/drive; to attempt to forcibly remount, call drive.mount(\"/content/drive\", force_remount=True).\n"
          ]
        }
      ],
      "source": [
        "# if you want to run it on collab and yopur data set is on the drive then you can use this \n",
        "from google.colab import drive\n",
        "drive.mount('/content/drive')\n"
      ]
    },
    {
      "cell_type": "code",
      "execution_count": null,
      "metadata": {
        "id": "y0f8w3Zh7VrY"
      },
      "outputs": [],
      "source": [
        "# Load and preprocess images\n",
        "# If the the data is locally available then update the folder path as needed\n",
        "folder_path=\"/images-data\"\n",
        "image_paths = []  # List of satellite image paths\n",
        "for file in os.listdir(folder_path):\n",
        "    if os.path.isfile(os.path.join(folder_path,file)):\n",
        "        image_paths.append(os.path.join(folder_path, file))"
      ]
    },
    {
      "cell_type": "code",
      "execution_count": null,
      "metadata": {
        "id": "ralHnrM07Y-Y"
      },
      "outputs": [],
      "source": [
        "image_paths"
      ]
    },
    {
      "cell_type": "code",
      "execution_count": null,
      "metadata": {},
      "outputs": [],
      "source": [
        "len(image_paths)"
      ]
    },
    {
      "cell_type": "code",
      "execution_count": null,
      "metadata": {
        "id": "26lFCCPL7ZD3"
      },
      "outputs": [],
      "source": [
        "images = [cv2.imread(path) for path in image_paths]\n",
        "\n",
        "# Assuming images are already aligned and have the same size\n",
        "# If the images are not aligned then we have to orient them accordingly will be updating it soon....\n",
        "# Stitch images\n",
        "stitcher = cv2.Stitcher_create()\n",
        "status, mosaic = stitcher.stitch(images)\n",
        "\n",
        "if status == cv2.Stitcher_OK:\n",
        "    # Save mosaic\n",
        "    cv2.imwrite(\"mosaic.tif\", mosaic)\n",
        "    print(\"Mosaic created and saved.\")\n",
        "else:\n",
        "    print(\"Error during stitching:\", status)"
      ]
    }
  ],
  "metadata": {
    "accelerator": "GPU",
    "colab": {
      "gpuType": "T4",
      "provenance": []
    },
    "kernelspec": {
      "display_name": "Python 3",
      "name": "python3"
    },
    "language_info": {
      "name": "python"
    }
  },
  "nbformat": 4,
  "nbformat_minor": 0
}
